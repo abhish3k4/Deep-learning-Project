{
  "nbformat": 4,
  "nbformat_minor": 0,
  "metadata": {
    "colab": {
      "provenance": [],
      "authorship_tag": "ABX9TyN/7sD/R8v9RkncOkzU2/1i",
      "include_colab_link": true
    },
    "kernelspec": {
      "name": "python3",
      "display_name": "Python 3"
    },
    "language_info": {
      "name": "python"
    }
  },
  "cells": [
    {
      "cell_type": "markdown",
      "metadata": {
        "id": "view-in-github",
        "colab_type": "text"
      },
      "source": [
        "<a href=\"https://colab.research.google.com/github/abhish3k4/Deep-learning-Project/blob/main/01_Python_workflow.ipynb\" target=\"_parent\"><img src=\"https://colab.research.google.com/assets/colab-badge.svg\" alt=\"Open In Colab\"/></a>"
      ]
    },
    {
      "cell_type": "markdown",
      "source": [
        "\n",
        "what we are covering =\n",
        "\n",
        "{1: \"Data Prepare and load\"\n",
        "                        2: \"Build model\"\n",
        "                        3: \"Fitting the model to data (data trainning)\"\n",
        "                        4: \"Making predictions and evaluating a model (Inference)\"\n",
        "                        5: \"Saving and loading a model\"\n",
        "                        6: \"Putting it all together\"}\n"
      ],
      "metadata": {
        "id": "huUbP9BY8z7A"
      }
    },
    {
      "cell_type": "code",
      "source": [
        "import torch\n",
        "from torch import nn # nn contains all of PyTorch's Building Block For neural Networks\n",
        "import matplotlib as mpl\n",
        "import matplotlib.pyplot as plt\n",
        "#check Pytorch Version\n",
        "torch.__version__"
      ],
      "metadata": {
        "id": "sdVy068J8XfD",
        "colab": {
          "base_uri": "https://localhost:8080/",
          "height": 35
        },
        "outputId": "d1874955-7ad7-46ee-8975-1255e0002e4b"
      },
      "execution_count": 349,
      "outputs": [
        {
          "output_type": "execute_result",
          "data": {
            "text/plain": [
              "'2.8.0+cu126'"
            ],
            "application/vnd.google.colaboratory.intrinsic+json": {
              "type": "string"
            }
          },
          "metadata": {},
          "execution_count": 349
        }
      ]
    },
    {
      "cell_type": "markdown",
      "source": [
        "## 1. Data(Preparing and loading)\n",
        "\n",
        "Data can be almost anything... in machine learning.\n",
        "\n",
        "* Excel Spreadsheet\n",
        "* Images of any kind\n",
        "* Videos (YouTube has lots of data)\n",
        "* Audio Like songs or podcasts\n",
        "* DNA\n",
        "* Text\n",
        "\n",
        "Machine larining is a game of two parts\n",
        "\n",
        "1. Get data into a numerical representation.\n",
        "2.Build a model to learn patterns in that numerical representation\n",
        "\n",
        "\n",
        "To showcase this lets create some known data using the linear regressions Formula.\n",
        "\n",
        "We'll use a linear regression formula to make a straight line with known parameters."
      ],
      "metadata": {
        "id": "97Dh4H0JU6Pp"
      }
    },
    {
      "cell_type": "code",
      "source": [
        "# Create known parameters\n",
        "weight = 0.7\n",
        "bias = 0.3\n",
        "\n",
        "# Creat\n",
        "strat = 0\n",
        "end = 1\n",
        "step = 0.02\n",
        "x = torch.arange(strat, end, step).unsqueeze(dim=1)\n",
        "y = weight * x + bias\n",
        "\n",
        "x[:10] , y[:10]"
      ],
      "metadata": {
        "id": "wRNu-13V9Awh",
        "colab": {
          "base_uri": "https://localhost:8080/"
        },
        "outputId": "23ae840b-53fe-4852-849b-f3a8ba827615"
      },
      "execution_count": 350,
      "outputs": [
        {
          "output_type": "execute_result",
          "data": {
            "text/plain": [
              "(tensor([[0.0000],\n",
              "         [0.0200],\n",
              "         [0.0400],\n",
              "         [0.0600],\n",
              "         [0.0800],\n",
              "         [0.1000],\n",
              "         [0.1200],\n",
              "         [0.1400],\n",
              "         [0.1600],\n",
              "         [0.1800]]),\n",
              " tensor([[0.3000],\n",
              "         [0.3140],\n",
              "         [0.3280],\n",
              "         [0.3420],\n",
              "         [0.3560],\n",
              "         [0.3700],\n",
              "         [0.3840],\n",
              "         [0.3980],\n",
              "         [0.4120],\n",
              "         [0.4260]]))"
            ]
          },
          "metadata": {},
          "execution_count": 350
        }
      ]
    },
    {
      "cell_type": "code",
      "source": [
        "len(x) , len(y)"
      ],
      "metadata": {
        "id": "4GrIyd0F81cQ",
        "colab": {
          "base_uri": "https://localhost:8080/"
        },
        "outputId": "4611b021-acb8-4789-fcce-cac197b565ee"
      },
      "execution_count": 351,
      "outputs": [
        {
          "output_type": "execute_result",
          "data": {
            "text/plain": [
              "(50, 50)"
            ]
          },
          "metadata": {},
          "execution_count": 351
        }
      ]
    },
    {
      "cell_type": "markdown",
      "source": [
        "### Splitting data into trainnin and test sets one of the most importsant concepts in machine learning in general\n",
        "\n",
        "Lets create a training and test set with our data\n",
        "\n"
      ],
      "metadata": {
        "id": "3OvWXG4cYc4Z"
      }
    },
    {
      "cell_type": "code",
      "source": [
        "# Create a train/test split\n",
        "train_split = int(0.8 * len(x))\n",
        "x_train , y_train = x[:train_split] , y[:train_split]\n",
        "x_test , y_test = x[train_split:] , y[train_split:]\n",
        "\n",
        "len(x_train) , len(y_train) , len(x_test) , len(y_test)"
      ],
      "metadata": {
        "colab": {
          "base_uri": "https://localhost:8080/"
        },
        "id": "bYu0YDOdXtjj",
        "outputId": "2b54e72d-3e33-4add-b76c-45a74dabb080"
      },
      "execution_count": 352,
      "outputs": [
        {
          "output_type": "execute_result",
          "data": {
            "text/plain": [
              "(40, 40, 10, 10)"
            ]
          },
          "metadata": {},
          "execution_count": 352
        }
      ]
    },
    {
      "cell_type": "markdown",
      "source": [
        "How might we better visualize our data\n",
        "This is where the data explorer motto comes in\n",
        "Visualize visulize visualize"
      ],
      "metadata": {
        "id": "AuXFiAfqa8VH"
      }
    },
    {
      "cell_type": "code",
      "source": [
        "def plot_predictions(train_data = x_train,\n",
        "                      train_labels = y_train,\n",
        "                      test_data = x_test,\n",
        "                      test_labels = y_test,\n",
        "                      predictions = None):\n",
        "\n",
        "    plt.figure(figsize=(10,7))\n",
        "\n",
        "    #Plot training data in blue\n",
        "    plt.scatter(train_data, train_labels, c=\"b\", s=4, label=\"Training Data\")\n",
        "\n",
        "    #Plot testing data in green\n",
        "    plt.scatter(test_data, test_labels, c=\"g\", s=4, label=\"Testing Data\")\n",
        "\n",
        "    #Plot predictions in red (if there are any)\n",
        "    if predictions is not None:\n",
        "        plt.scatter(test_data, predictions, c=\"r\", s=4, label=\"Predictions\")\n",
        "\n",
        "    #Show the legend\n",
        "    plt.legend(prop={\"size\": 12})\n",
        "\n",
        "    #Show the plot\n",
        "    plt.show()"
      ],
      "metadata": {
        "id": "PxVViu1Naepy"
      },
      "execution_count": 353,
      "outputs": []
    },
    {
      "cell_type": "code",
      "source": [
        "plot_predictions();\n"
      ],
      "metadata": {
        "colab": {
          "base_uri": "https://localhost:8080/",
          "height": 599
        },
        "id": "fY6gAaAIax7Y",
        "outputId": "e3409ed6-a80c-4b78-ff94-598780e1c66e"
      },
      "execution_count": 354,
      "outputs": [
        {
          "output_type": "display_data",
          "data": {
            "text/plain": [
              "<Figure size 1000x700 with 1 Axes>"
            ],
            "image/png": "[encoded data removed]"
          },
          "metadata": {}
        }
      ]
    },
    {
      "cell_type": "markdown",
      "source": [
        "## 2. Build model\n",
        "\n",
        "our first pytorch model\n",
        "\n",
        "This one is the first pytorch model\n",
        "\n",
        "\n",
        "what our model does:\n",
        "Strat with random values weight & Bias\n",
        "Look at training data and adjust the random values to better represent or get closer to the ideal values the weight and bias values we used to create the data\n",
        "\n",
        "How does it do so ?\n",
        "\n",
        "1.Graidient desent\n",
        "\n",
        "2.Backpropogation"
      ],
      "metadata": {
        "id": "PJ0l-PNUhXIN"
      }
    },
    {
      "cell_type": "code",
      "source": [
        "# Create linear regression model class\n",
        "class LinearRegressionModel(nn.Module): # <- almost everything in Python is inherit from nn.Module\n",
        " def __init__(self):\n",
        "   super().__init__()\n",
        "   self.weights = nn.Parameter(torch.randn(1,# <- Strat with a random weight and try to adjust it to the ideal weight\n",
        "                                            requires_grad=True, # <- Can this parameter be updated via gradient descent?\n",
        "                                            dtype=torch.float)) #<- PyTorch loves the datatype torch.float32\n",
        "   self.bias = nn.Parameter(torch.randn(1, # <- Start with a random bias and try to adjust it to the ideal bias\n",
        "                                        requires_grad=True, # <- Can this parameter be updated via gradient descent?\n",
        "                                        dtype=torch.float)) # <- PyTorch loves the datatype torch.float32\n",
        "\n",
        " #Forward method to deifen the computation in the model\n",
        " def forward(self, x: torch.Tensor) -> torch.Tensor: # \"x\" is the input data\n",
        "   return self.weights * x + self.bias # This is the linear Reression formula\n",
        "\n"
      ],
      "metadata": {
        "id": "_IabbPfUdIlS"
      },
      "execution_count": 355,
      "outputs": []
    },
    {
      "cell_type": "markdown",
      "source": [
        "## PyTorch model building essentials\n",
        "\n",
        "* Torch.nn -- Contains all of the building for computational graph(A neural network can be consider as an  computational graph)\n",
        "* Torch.nn.parameter - What parameter should our model try and learn , often a PyTorch layer from torch.nn will set these for us\n",
        "* Torch.nn.Module - The base class for all neural network modules if you subclass it you should overwrite forward()\n",
        "* torch.optim - This where the optimizer in PyTorch Live , They will help with gradient descent\n",
        "\n",
        "* Def forward() - All nn.Module subclasses require you to overwrite forward() , this method defines what happens in the forward computation"
      ],
      "metadata": {
        "id": "tJu6gAS80Egj"
      }
    },
    {
      "cell_type": "code",
      "source": [
        " # Create a random seed\n",
        " torch.manual_seed(42)\n",
        "\n",
        " # Create an isntance of the model this a subclass of nn.module\n",
        " model_O = LinearRegressionModel()\n",
        "\n",
        " # Check out the parameters\n",
        " list (model_O.parameters())"
      ],
      "metadata": {
        "colab": {
          "base_uri": "https://localhost:8080/"
        },
        "id": "0RHLCzVkoXyI",
        "outputId": "d46bdc2a-7504-4e19-d127-595fddee6741"
      },
      "execution_count": 356,
      "outputs": [
        {
          "output_type": "execute_result",
          "data": {
            "text/plain": [
              "[Parameter containing:\n",
              " tensor([0.3367], requires_grad=True),\n",
              " Parameter containing:\n",
              " tensor([0.1288], requires_grad=True)]"
            ]
          },
          "metadata": {},
          "execution_count": 356
        }
      ]
    },
    {
      "cell_type": "code",
      "source": [
        "# List named parameters\n",
        "model_O.state_dict()"
      ],
      "metadata": {
        "colab": {
          "base_uri": "https://localhost:8080/"
        },
        "id": "euQfY_rV7aev",
        "outputId": "501cbab0-f20a-46fc-e2f6-39286bcb3512"
      },
      "execution_count": 357,
      "outputs": [
        {
          "output_type": "execute_result",
          "data": {
            "text/plain": [
              "OrderedDict([('weights', tensor([0.3367])), ('bias', tensor([0.1288]))])"
            ]
          },
          "metadata": {},
          "execution_count": 357
        }
      ]
    },
    {
      "cell_type": "code",
      "source": [
        "weight , bias"
      ],
      "metadata": {
        "colab": {
          "base_uri": "https://localhost:8080/"
        },
        "id": "hZzPhRuw7jUm",
        "outputId": "94f03b19-2443-43e3-94e2-d8c58847fbe5"
      },
      "execution_count": 358,
      "outputs": [
        {
          "output_type": "execute_result",
          "data": {
            "text/plain": [
              "(0.7, 0.3)"
            ]
          },
          "metadata": {},
          "execution_count": 358
        }
      ]
    },
    {
      "cell_type": "markdown",
      "source": [
        "### Making prediction using 'Torch.inference_model()'\n",
        "\n",
        "To check our model's predictive power let's see how well it predicts y_test based on x_test\n",
        "\n",
        "When we pass data thorugh our model, it's going to run it through the 'forward()'  method."
      ],
      "metadata": {
        "id": "qVut3Ty39BWZ"
      }
    },
    {
      "cell_type": "code",
      "source": [
        "x_test  , y_test"
      ],
      "metadata": {
        "colab": {
          "base_uri": "https://localhost:8080/"
        },
        "id": "pVsrG2D0ZIfi",
        "outputId": "ea6ba858-9645-472b-fc78-fc09b4599ee6"
      },
      "execution_count": 359,
      "outputs": [
        {
          "output_type": "execute_result",
          "data": {
            "text/plain": [
              "(tensor([[0.8000],\n",
              "         [0.8200],\n",
              "         [0.8400],\n",
              "         [0.8600],\n",
              "         [0.8800],\n",
              "         [0.9000],\n",
              "         [0.9200],\n",
              "         [0.9400],\n",
              "         [0.9600],\n",
              "         [0.9800]]),\n",
              " tensor([[0.8600],\n",
              "         [0.8740],\n",
              "         [0.8880],\n",
              "         [0.9020],\n",
              "         [0.9160],\n",
              "         [0.9300],\n",
              "         [0.9440],\n",
              "         [0.9580],\n",
              "         [0.9720],\n",
              "         [0.9860]]))"
            ]
          },
          "metadata": {},
          "execution_count": 359
        }
      ]
    },
    {
      "cell_type": "code",
      "source": [
        "y_preds = model_O(x_test)\n",
        "y_preds"
      ],
      "metadata": {
        "colab": {
          "base_uri": "https://localhost:8080/"
        },
        "id": "vcKcEqFaBolF",
        "outputId": "3248aca7-8c96-4bb9-cf02-9a662e1a5066"
      },
      "execution_count": 360,
      "outputs": [
        {
          "output_type": "execute_result",
          "data": {
            "text/plain": [
              "tensor([[0.3982],\n",
              "        [0.4049],\n",
              "        [0.4116],\n",
              "        [0.4184],\n",
              "        [0.4251],\n",
              "        [0.4318],\n",
              "        [0.4386],\n",
              "        [0.4453],\n",
              "        [0.4520],\n",
              "        [0.4588]], grad_fn=<AddBackward0>)"
            ]
          },
          "metadata": {},
          "execution_count": 360
        }
      ]
    },
    {
      "cell_type": "code",
      "source": [
        "## Make prediction with model\n",
        "with torch.inference_mode():\n",
        "  y_preds = model_O(x_test)\n",
        "\n",
        "y_preds"
      ],
      "metadata": {
        "colab": {
          "base_uri": "https://localhost:8080/"
        },
        "id": "PvLIn94j9AP4",
        "outputId": "17bbf123-6bf9-41c7-8d82-4484f25832cf"
      },
      "execution_count": 361,
      "outputs": [
        {
          "output_type": "execute_result",
          "data": {
            "text/plain": [
              "tensor([[0.3982],\n",
              "        [0.4049],\n",
              "        [0.4116],\n",
              "        [0.4184],\n",
              "        [0.4251],\n",
              "        [0.4318],\n",
              "        [0.4386],\n",
              "        [0.4453],\n",
              "        [0.4520],\n",
              "        [0.4588]])"
            ]
          },
          "metadata": {},
          "execution_count": 361
        }
      ]
    },
    {
      "cell_type": "code",
      "source": [
        "y_test"
      ],
      "metadata": {
        "colab": {
          "base_uri": "https://localhost:8080/"
        },
        "id": "yI3gUgos7tbU",
        "outputId": "891c36fc-b07c-439f-c42b-ab71259fb716"
      },
      "execution_count": 362,
      "outputs": [
        {
          "output_type": "execute_result",
          "data": {
            "text/plain": [
              "tensor([[0.8600],\n",
              "        [0.8740],\n",
              "        [0.8880],\n",
              "        [0.9020],\n",
              "        [0.9160],\n",
              "        [0.9300],\n",
              "        [0.9440],\n",
              "        [0.9580],\n",
              "        [0.9720],\n",
              "        [0.9860]])"
            ]
          },
          "metadata": {},
          "execution_count": 362
        }
      ]
    },
    {
      "cell_type": "code",
      "source": [
        "plot_predictions(predictions = y_preds)"
      ],
      "metadata": {
        "colab": {
          "base_uri": "https://localhost:8080/",
          "height": 599
        },
        "id": "bCFs-P9CAweK",
        "outputId": "6c3133fc-9d1f-4f66-c123-1a3e097f4c75"
      },
      "execution_count": 363,
      "outputs": [
        {
          "output_type": "display_data",
          "data": {
            "text/plain": [
              "<Figure size 1000x700 with 1 Axes>"
            ],
            "image/png": "[encoded data removed]"
          },
          "metadata": {}
        }
      ]
    },
    {
      "cell_type": "markdown",
      "source": [
        "## 3. Train model\n",
        "\n",
        "The whole idea of training is for a model  to move from some *unknown* These may be random to some known parameters\n",
        "\n",
        "Or in other words form a represenataition fo the data to a better representation of the data\n",
        "\n",
        "One way to measure how poor or how wrong you model predictions are is to true\n",
        "\n",
        "\n",
        "**Note : Loss function may also be called cost function or criterion in different areas for our case were foing to refer to it as a loss function\n",
        "\n",
        "Things we need to train:\n",
        "\n",
        "**Loss funciton : A function to measure how woring your model prediction are to the ideal lower is better.\n",
        "**optimizer : Takes inot account the loss of a model and adjust  the model paraments eg weight and bias in our case to improve the loss function.\n",
        "\n",
        "And specifically for PyTorch, we need:\n",
        "A training loop\n",
        "A testing loop\n"
      ],
      "metadata": {
        "id": "rvOX-mUXhEn6"
      }
    },
    {
      "cell_type": "code",
      "source": [
        "list(model_O.parameters())"
      ],
      "metadata": {
        "id": "vRC2U-u2BL7U",
        "colab": {
          "base_uri": "https://localhost:8080/"
        },
        "outputId": "5be4edf5-0234-48ee-a33a-885cba7eb1c1"
      },
      "execution_count": 364,
      "outputs": [
        {
          "output_type": "execute_result",
          "data": {
            "text/plain": [
              "[Parameter containing:\n",
              " tensor([0.3367], requires_grad=True),\n",
              " Parameter containing:\n",
              " tensor([0.1288], requires_grad=True)]"
            ]
          },
          "metadata": {},
          "execution_count": 364
        }
      ]
    },
    {
      "cell_type": "code",
      "source": [
        "model_O.state_dict()"
      ],
      "metadata": {
        "colab": {
          "base_uri": "https://localhost:8080/"
        },
        "id": "0QCqpFURjCMv",
        "outputId": "1e46a7cf-17d2-47dd-a430-dfc53d1992c6"
      },
      "execution_count": 365,
      "outputs": [
        {
          "output_type": "execute_result",
          "data": {
            "text/plain": [
              "OrderedDict([('weights', tensor([0.3367])), ('bias', tensor([0.1288]))])"
            ]
          },
          "metadata": {},
          "execution_count": 365
        }
      ]
    },
    {
      "cell_type": "markdown",
      "source": [
        "## Setup a loss function"
      ],
      "metadata": {
        "id": "c7C1A_HaxRPr"
      }
    },
    {
      "cell_type": "code",
      "source": [
        "# Setup a loss function\n",
        "loss_fn = nn.L1Loss() # MAE Loss is same as L1Loss\n",
        "\n",
        "#Setup an optimizer (Stochastic gradient descent)\n",
        "optimizer = torch.optim.SGD(params = model_O.parameters(),\n",
        "                            lr = 0.01) # learining rate = possibly the most important hyperparameter you can set"
      ],
      "metadata": {
        "id": "BmITuDXZjU6S"
      },
      "execution_count": 366,
      "outputs": []
    },
    {
      "cell_type": "markdown",
      "source": [
        "Q. Which loss fucntion and optimizer should i use?\n",
        "A. This will be problem But with experience you'll get an idea of what doesn't with your particular problem set.\n",
        "For example for a regression problem (like ours) a loss function of nn.llose() and an optimizer like torch.optim.SGD() will suffice.\n",
        "But for a classification like classifiying whether a photo is of a dog or a cat you'll likely want to use a loss function of nn.BCELoss() (Binary Cross Entrodpy Loss)."
      ],
      "metadata": {
        "id": "iyDGPiS_0ts4"
      }
    },
    {
      "cell_type": "markdown",
      "source": [
        "### Building a training loop in PyTorch\n",
        "\n",
        "A couple of things we need in a training loop\n",
        "1. Loop thorught the data\n",
        "2. Forward pass (This involves data moving through our model's forward()\n",
        "functions) to make prediction on data - also called forward propogation\n",
        "3. Calculate the loss (compare forward pass predictions to ground truth labels)\n",
        "4. Optimizer Zero grad\n",
        "5. Loss backward - move backwards through the network to calculate the gradients of each of the parameters of our model with respect to the loss (**Backpropagation**)\n",
        "6. Optimizer step - use the optimizer to adjust our model's parameters to try and improve the loss (**Gradient descent**)"
      ],
      "metadata": {
        "id": "ENDkCv2U13Po"
      }
    },
    {
      "cell_type": "code",
      "source": [
        "# An epoch is one loop through the data .. (This is a Hyperparameter because we've set it ourselves )\n",
        "torch.manual_seed(42)\n",
        "epochs = 1\n",
        "\n",
        "### Training\n",
        "# 0 . Loop through the data\n",
        "for epoch in range(epochs):\n",
        "  #Set the model to training mode\n",
        "  model_O.train() # train model in Pytorch sets all parameters that requires gradients to require gradients\n",
        "\n",
        "  #1. Forward pass\n",
        "  y_preds = model_O(x_train)\n",
        "\n",
        "  #2. Calculate the loss\n",
        "  loss = loss_fn(y_preds, y_train)\n",
        "  print(f\"Loss: {loss}\")\n",
        "\n",
        "  #3. Optimizer zero grad\n",
        "  optimizer.zero_grad()\n",
        "\n",
        "  #4. Perform backpropagation on the loss with respect to the parameter of the model\n",
        "  loss.backward()\n",
        "\n",
        "  #5. Step the optimizer (perform gradient descent)\n",
        "  optimizer.step() # By default how the optimizer changes will acculuumate through the loop so we have to zero them  above in step 3 for the next iteration of the loop\n",
        "\n",
        "  model_O.eval() # turns off graidents tracking\n",
        "  # with torch.inference_mode():\n",
        "  #   test_preds = model_O(x_test)\n",
        "  #   test_loss = loss_fn(test_preds, y_test)\n",
        "  # print(f\"Test loss: {test_loss}\")\n",
        "\n",
        "  # Print out model state_dict()\n",
        "  print(model_O.state_dict())"
      ],
      "metadata": {
        "id": "T7mquxLb1eHx",
        "colab": {
          "base_uri": "https://localhost:8080/"
        },
        "outputId": "2f305ba7-0a34-4ad0-a7b4-9308578c0381"
      },
      "execution_count": 374,
      "outputs": [
        {
          "output_type": "stream",
          "name": "stdout",
          "text": [
            "Loss: 0.008932482451200485\n",
            "OrderedDict({'weights': tensor([0.6951]), 'bias': tensor([0.2993])})\n"
          ]
        }
      ]
    },
    {
      "cell_type": "code",
      "source": [
        "model_O.state_dict()"
      ],
      "metadata": {
        "colab": {
          "base_uri": "https://localhost:8080/"
        },
        "id": "TfJXVzmBtBXu",
        "outputId": "2ad52090-7b87-4265-d672-e0858fc3f0e2"
      },
      "execution_count": 368,
      "outputs": [
        {
          "output_type": "execute_result",
          "data": {
            "text/plain": [
              "OrderedDict([('weights', tensor([0.6990])), ('bias', tensor([0.3093]))])"
            ]
          },
          "metadata": {},
          "execution_count": 368
        }
      ]
    },
    {
      "cell_type": "code",
      "source": [
        "model_O.state_dict()"
      ],
      "metadata": {
        "colab": {
          "base_uri": "https://localhost:8080/"
        },
        "id": "EBWCNpANvGNE",
        "outputId": "6d033518-62aa-44c3-ce14-a5a6b0cf545d"
      },
      "execution_count": 369,
      "outputs": [
        {
          "output_type": "execute_result",
          "data": {
            "text/plain": [
              "OrderedDict([('weights', tensor([0.6990])), ('bias', tensor([0.3093]))])"
            ]
          },
          "metadata": {},
          "execution_count": 369
        }
      ]
    },
    {
      "cell_type": "code",
      "source": [
        "weight , bias"
      ],
      "metadata": {
        "colab": {
          "base_uri": "https://localhost:8080/"
        },
        "id": "wTNOzU0ctE14",
        "outputId": "f429e52d-848d-4f4d-a555-c68615dda5b0"
      },
      "execution_count": 370,
      "outputs": [
        {
          "output_type": "execute_result",
          "data": {
            "text/plain": [
              "(0.7, 0.3)"
            ]
          },
          "metadata": {},
          "execution_count": 370
        }
      ]
    },
    {
      "cell_type": "code",
      "source": [
        "with torch.inference_mode():\n",
        "  y_preds_new = model_O(x_test)"
      ],
      "metadata": {
        "id": "xA-DuFSXyCBw"
      },
      "execution_count": 375,
      "outputs": []
    },
    {
      "cell_type": "code",
      "source": [
        "plot_predictions(predictions=y_preds_new)"
      ],
      "metadata": {
        "colab": {
          "base_uri": "https://localhost:8080/",
          "height": 599
        },
        "id": "HyYn8sKSyXAJ",
        "outputId": "22c06a6f-c7ab-473b-953a-58328f99029c"
      },
      "execution_count": 376,
      "outputs": [
        {
          "output_type": "display_data",
          "data": {
            "text/plain": [
              "<Figure size 1000x700 with 1 Axes>"
            ],
            "image/png": "[encoded data removed]"
          },
          "metadata": {}
        }
      ]
    },
    {
      "cell_type": "code",
      "source": [],
      "metadata": {
        "id": "zKlufKYqydxg"
      },
      "execution_count": 372,
      "outputs": []
    }
  ]
}