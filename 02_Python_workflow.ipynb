{
  "nbformat": 4,
  "nbformat_minor": 0,
  "metadata": {
    "colab": {
      "provenance": [],
      "authorship_tag": "ABX9TyPapAnkdakvnfZ3puhCU+6H",
      "include_colab_link": true
    },
    "kernelspec": {
      "name": "python3",
      "display_name": "Python 3"
    },
    "language_info": {
      "name": "python"
    }
  },
  "cells": [
    {
      "cell_type": "markdown",
      "metadata": {
        "id": "view-in-github",
        "colab_type": "text"
      },
      "source": [
        "<a href=\"https://colab.research.google.com/github/abhish3k4/Deep-learning-Project/blob/main/02_Python_workflow.ipynb\" target=\"_parent\"><img src=\"https://colab.research.google.com/assets/colab-badge.svg\" alt=\"Open In Colab\"/></a>"
      ]
    },
    {
      "cell_type": "markdown",
      "source": [
        "\n",
        "what we are covering =\n",
        "\n",
        "{1: \"Data Prepare and load\"\n",
        "                        2: \"Build model\"\n",
        "                        3: \"Fitting the model to data (data trainning)\"\n",
        "                        4: \"Making predictions and evaluating a model (Inference)\"\n",
        "                        5: \"Saving and loading a model\"\n",
        "                        6: \"Putting it all together\"}\n"
      ],
      "metadata": {
        "id": "huUbP9BY8z7A"
      }
    },
    {
      "cell_type": "code",
      "source": [
        "import torch\n",
        "from torch import nn # nn contains all of PyTorch's Building Block For neural Networks\n",
        "import matplotlib as mpl\n",
        "import matplotlib.pyplot as plt\n",
        "#check Pytorch Version\n",
        "torch.__version__"
      ],
      "metadata": {
        "id": "sdVy068J8XfD",
        "colab": {
          "base_uri": "https://localhost:8080/",
          "height": 35
        },
        "outputId": "34f3290f-f9bf-4c66-89a4-6568909d02a4"
      },
      "execution_count": 37,
      "outputs": [
        {
          "output_type": "execute_result",
          "data": {
            "text/plain": [
              "'2.8.0+cu126'"
            ],
            "application/vnd.google.colaboratory.intrinsic+json": {
              "type": "string"
            }
          },
          "metadata": {},
          "execution_count": 37
        }
      ]
    },
    {
      "cell_type": "markdown",
      "source": [
        "## 1. Data(Preparing and loading)\n",
        "\n",
        "Data can be almost anything... in machine learning.\n",
        "\n",
        "* Excel Spreadsheet\n",
        "* Images of any kind\n",
        "* Videos (YouTube has lots of data)\n",
        "* Audio Like songs or podcasts\n",
        "* DNA\n",
        "* Text\n",
        "\n",
        "Machine larining is a game of two parts\n",
        "\n",
        "1. Get data into a numerical representation.\n",
        "2.Build a model to learn patterns in that numerical representation\n",
        "\n",
        "\n",
        "To showcase this lets create some known data using the linear regressions Formula.\n",
        "\n",
        "We'll use a linear regression formula to make a straight line with known parameters."
      ],
      "metadata": {
        "id": "97Dh4H0JU6Pp"
      }
    },
    {
      "cell_type": "code",
      "source": [
        "# Create known parameters\n",
        "weight = 0.7\n",
        "bias = 0.3\n",
        "\n",
        "# Creat\n",
        "strat = 0\n",
        "end = 1\n",
        "step = 0.02\n",
        "x = torch.arange(strat, end, step).unsqueeze(dim=1)\n",
        "y = weight * x + bias\n",
        "\n",
        "x[:10] , y[:10]"
      ],
      "metadata": {
        "id": "wRNu-13V9Awh",
        "colab": {
          "base_uri": "https://localhost:8080/"
        },
        "outputId": "8de9b003-88b9-48ea-a5f7-3936939bdc86"
      },
      "execution_count": 38,
      "outputs": [
        {
          "output_type": "execute_result",
          "data": {
            "text/plain": [
              "(tensor([[0.0000],\n",
              "         [0.0200],\n",
              "         [0.0400],\n",
              "         [0.0600],\n",
              "         [0.0800],\n",
              "         [0.1000],\n",
              "         [0.1200],\n",
              "         [0.1400],\n",
              "         [0.1600],\n",
              "         [0.1800]]),\n",
              " tensor([[0.3000],\n",
              "         [0.3140],\n",
              "         [0.3280],\n",
              "         [0.3420],\n",
              "         [0.3560],\n",
              "         [0.3700],\n",
              "         [0.3840],\n",
              "         [0.3980],\n",
              "         [0.4120],\n",
              "         [0.4260]]))"
            ]
          },
          "metadata": {},
          "execution_count": 38
        }
      ]
    },
    {
      "cell_type": "code",
      "source": [
        "len(x) , len(y)"
      ],
      "metadata": {
        "id": "4GrIyd0F81cQ",
        "colab": {
          "base_uri": "https://localhost:8080/"
        },
        "outputId": "d6b714b4-9410-4864-a0b1-92c9f9a7bf3e"
      },
      "execution_count": 39,
      "outputs": [
        {
          "output_type": "execute_result",
          "data": {
            "text/plain": [
              "(50, 50)"
            ]
          },
          "metadata": {},
          "execution_count": 39
        }
      ]
    },
    {
      "cell_type": "markdown",
      "source": [
        "### Splitting data into trainnin and test sets one of the most importsant concepts in machine learning in general\n",
        "\n",
        "Lets create a training and test set with our data\n",
        "\n"
      ],
      "metadata": {
        "id": "3OvWXG4cYc4Z"
      }
    },
    {
      "cell_type": "code",
      "source": [
        "# Create a train/test split\n",
        "train_split = int(0.8 * len(x))\n",
        "x_train , y_train = x[:train_split] , y[:train_split]\n",
        "x_test , y_test = x[train_split:] , y[train_split:]\n",
        "\n",
        "len(x_train) , len(y_train) , len(x_test) , len(y_test)"
      ],
      "metadata": {
        "colab": {
          "base_uri": "https://localhost:8080/"
        },
        "id": "bYu0YDOdXtjj",
        "outputId": "8914ea5b-d8f5-4fba-f32b-41a93fb4c14d"
      },
      "execution_count": 40,
      "outputs": [
        {
          "output_type": "execute_result",
          "data": {
            "text/plain": [
              "(40, 40, 10, 10)"
            ]
          },
          "metadata": {},
          "execution_count": 40
        }
      ]
    },
    {
      "cell_type": "markdown",
      "source": [
        "How might we better visualize our data\n",
        "This is where the data explorer motto comes in\n",
        "Visualize visulize visualize"
      ],
      "metadata": {
        "id": "AuXFiAfqa8VH"
      }
    },
    {
      "cell_type": "code",
      "source": [
        "def plot_predictions(train_data = x_train,\n",
        "                      train_labels = y_train,\n",
        "                      test_data = x_test,\n",
        "                      test_labels = y_test,\n",
        "                      predictions = None):\n",
        "\n",
        "    plt.figure(figsize=(10,7))\n",
        "\n",
        "    #Plot training data in blue\n",
        "    plt.scatter(train_data, train_labels, c=\"b\", s=4, label=\"Training Data\")\n",
        "\n",
        "    #Plot testing data in green\n",
        "    plt.scatter(test_data, test_labels, c=\"g\", s=4, label=\"Testing Data\")\n",
        "\n",
        "    #Plot predictions in red (if there are any)\n",
        "    if predictions is not None:\n",
        "        plt.scatter(test_data, predictions, c=\"r\", s=4, label=\"Predictions\")\n",
        "\n",
        "    #Show the legend\n",
        "    plt.legend(prop={\"size\": 12})\n",
        "\n",
        "    #Show the plot\n",
        "    plt.show()"
      ],
      "metadata": {
        "id": "PxVViu1Naepy"
      },
      "execution_count": 41,
      "outputs": []
    },
    {
      "cell_type": "code",
      "source": [
        "plot_predictions();\n"
      ],
      "metadata": {
        "colab": {
          "base_uri": "https://localhost:8080/",
          "height": 436
        },
        "id": "fY6gAaAIax7Y",
        "outputId": "9aacd039-c239-4226-8178-ad5b5d6775f9"
      },
      "execution_count": 42,
      "outputs": [
        {
          "output_type": "display_data",
          "data": {
            "text/plain": [
              "<Figure size 1000x700 with 1 Axes>"
            ],
            "image/png": "[encoded data removed]"
          },
          "metadata": {}
        }
      ]
    },
    {
      "cell_type": "markdown",
      "source": [
        "## 2. Build model\n",
        "\n",
        "our first pytorch model\n",
        "\n",
        "This one is the first pytorch model\n",
        "\n",
        "\n",
        "what our model does:\n",
        "Strat with random values weight & Bias\n",
        "Look at training data and adjust the random values to better represent or get closer to the ideal values the weight and bias values we used to create the data\n",
        "\n",
        "How does it do so ?\n",
        "\n",
        "1.Graidient desent\n",
        "\n",
        "2.Backpropogation"
      ],
      "metadata": {
        "id": "PJ0l-PNUhXIN"
      }
    },
    {
      "cell_type": "code",
      "source": [
        "# Create linear regression model class\n",
        "class LinearRegressionModel(nn.Module): # <- almost everything in Python is inherit from nn.Module\n",
        " def __init__(self):\n",
        "   super().__init__()\n",
        "   self.weights = nn.Parameter(torch.randn(1,# <- Strat with a random weight and try to adjust it to the ideal weight\n",
        "                                            requires_grad=True, # <- Can this parameter be updated via gradient descent?\n",
        "                                            dtype=torch.float)) #<- PyTorch loves the datatype torch.float32\n",
        "   self.bias = nn.Parameter(torch.randn(1, # <- Start with a random bias and try to adjust it to the ideal bias\n",
        "                                        requires_grad=True, # <- Can this parameter be updated via gradient descent?\n",
        "                                        dtype=torch.float)) # <- PyTorch loves the datatype torch.float32\n",
        "\n",
        " #Forward method to deifen the computation in the model\n",
        " def forward(self, x: torch.Tensor) -> torch.Tensor: # \"x\" is the input data\n",
        "   return self.weights * x + self.bias # This is the linear Reression formula\n",
        "\n"
      ],
      "metadata": {
        "id": "_IabbPfUdIlS"
      },
      "execution_count": 43,
      "outputs": []
    },
    {
      "cell_type": "markdown",
      "source": [
        "## PyTorch model building essentials\n",
        "\n",
        "* Torch.nn -- Contains all of the building for computational graph(A neural network can be consider as an  computational graph)\n",
        "* Torch.nn.parameter - What parameter should our model try and learn , often a PyTorch layer from torch.nn will set these for us\n",
        "* Torch.nn.Module - The base class for all neural network modules if you subclass it you should overwrite forward()\n",
        "* torch.optim - This where the optimizer in PyTorch Live , They will help with gradient descent\n",
        "\n",
        "* Def forward() - All nn.Module subclasses require you to overwrite forward() , this method defines what happens in the forward computation"
      ],
      "metadata": {
        "id": "tJu6gAS80Egj"
      }
    },
    {
      "cell_type": "code",
      "source": [
        " # Create a random seed\n",
        " torch.manual_seed(42)\n",
        "\n",
        " # Create an isntance of the model this a subclass of nn.module\n",
        " model_O = LinearRegressionModel()\n",
        "\n",
        " # Check out the parameters\n",
        " list (model_O.parameters())"
      ],
      "metadata": {
        "colab": {
          "base_uri": "https://localhost:8080/"
        },
        "id": "0RHLCzVkoXyI",
        "outputId": "8fdcab8f-2d7c-4b7e-eb99-98993c6d33ec"
      },
      "execution_count": 44,
      "outputs": [
        {
          "output_type": "execute_result",
          "data": {
            "text/plain": [
              "[Parameter containing:\n",
              " tensor([0.3367], requires_grad=True),\n",
              " Parameter containing:\n",
              " tensor([0.1288], requires_grad=True)]"
            ]
          },
          "metadata": {},
          "execution_count": 44
        }
      ]
    },
    {
      "cell_type": "code",
      "source": [
        "# List named parameters\n",
        "model_O.state_dict()"
      ],
      "metadata": {
        "colab": {
          "base_uri": "https://localhost:8080/"
        },
        "id": "euQfY_rV7aev",
        "outputId": "00ab0b06-653c-4d2f-c20b-467f198229e9"
      },
      "execution_count": 45,
      "outputs": [
        {
          "output_type": "execute_result",
          "data": {
            "text/plain": [
              "OrderedDict([('weights', tensor([0.3367])), ('bias', tensor([0.1288]))])"
            ]
          },
          "metadata": {},
          "execution_count": 45
        }
      ]
    },
    {
      "cell_type": "code",
      "source": [
        "weight , bias"
      ],
      "metadata": {
        "colab": {
          "base_uri": "https://localhost:8080/"
        },
        "id": "hZzPhRuw7jUm",
        "outputId": "d9690dfb-7c31-44ee-c642-117452c06eb9"
      },
      "execution_count": 46,
      "outputs": [
        {
          "output_type": "execute_result",
          "data": {
            "text/plain": [
              "(0.7, 0.3)"
            ]
          },
          "metadata": {},
          "execution_count": 46
        }
      ]
    },
    {
      "cell_type": "markdown",
      "source": [
        "### Making prediction using 'Torch.inference_model()'\n",
        "\n",
        "To check our model's predictive power let's see how well it predicts y_test based on x_test\n",
        "\n",
        "When we pass data thorugh our model, it's going to run it through the 'forward()'  method."
      ],
      "metadata": {
        "id": "qVut3Ty39BWZ"
      }
    },
    {
      "cell_type": "code",
      "source": [
        "x_test  , y_test"
      ],
      "metadata": {
        "colab": {
          "base_uri": "https://localhost:8080/"
        },
        "id": "pVsrG2D0ZIfi",
        "outputId": "1d19edcb-fbf0-48a7-b848-8aff5bd2f3c3"
      },
      "execution_count": 47,
      "outputs": [
        {
          "output_type": "execute_result",
          "data": {
            "text/plain": [
              "(tensor([[0.8000],\n",
              "         [0.8200],\n",
              "         [0.8400],\n",
              "         [0.8600],\n",
              "         [0.8800],\n",
              "         [0.9000],\n",
              "         [0.9200],\n",
              "         [0.9400],\n",
              "         [0.9600],\n",
              "         [0.9800]]),\n",
              " tensor([[0.8600],\n",
              "         [0.8740],\n",
              "         [0.8880],\n",
              "         [0.9020],\n",
              "         [0.9160],\n",
              "         [0.9300],\n",
              "         [0.9440],\n",
              "         [0.9580],\n",
              "         [0.9720],\n",
              "         [0.9860]]))"
            ]
          },
          "metadata": {},
          "execution_count": 47
        }
      ]
    },
    {
      "cell_type": "code",
      "source": [
        "y_preds = model_O(x_test)\n",
        "y_preds"
      ],
      "metadata": {
        "colab": {
          "base_uri": "https://localhost:8080/"
        },
        "id": "vcKcEqFaBolF",
        "outputId": "8eadbb9e-72fa-4a84-e937-baac567ae302"
      },
      "execution_count": 48,
      "outputs": [
        {
          "output_type": "execute_result",
          "data": {
            "text/plain": [
              "tensor([[0.3982],\n",
              "        [0.4049],\n",
              "        [0.4116],\n",
              "        [0.4184],\n",
              "        [0.4251],\n",
              "        [0.4318],\n",
              "        [0.4386],\n",
              "        [0.4453],\n",
              "        [0.4520],\n",
              "        [0.4588]], grad_fn=<AddBackward0>)"
            ]
          },
          "metadata": {},
          "execution_count": 48
        }
      ]
    },
    {
      "cell_type": "code",
      "source": [
        "## Make prediction with model\n",
        "with torch.inference_mode():\n",
        "  y_preds = model_O(x_test)\n",
        "\n",
        "y_preds"
      ],
      "metadata": {
        "colab": {
          "base_uri": "https://localhost:8080/"
        },
        "id": "PvLIn94j9AP4",
        "outputId": "91b792ca-08ee-4a43-d2c3-2f8050f0f531"
      },
      "execution_count": 49,
      "outputs": [
        {
          "output_type": "execute_result",
          "data": {
            "text/plain": [
              "tensor([[0.3982],\n",
              "        [0.4049],\n",
              "        [0.4116],\n",
              "        [0.4184],\n",
              "        [0.4251],\n",
              "        [0.4318],\n",
              "        [0.4386],\n",
              "        [0.4453],\n",
              "        [0.4520],\n",
              "        [0.4588]])"
            ]
          },
          "metadata": {},
          "execution_count": 49
        }
      ]
    },
    {
      "cell_type": "code",
      "source": [
        "y_test"
      ],
      "metadata": {
        "colab": {
          "base_uri": "https://localhost:8080/"
        },
        "id": "yI3gUgos7tbU",
        "outputId": "8d0edbce-fa0f-4643-c4af-f5fa47da940c"
      },
      "execution_count": 50,
      "outputs": [
        {
          "output_type": "execute_result",
          "data": {
            "text/plain": [
              "tensor([[0.8600],\n",
              "        [0.8740],\n",
              "        [0.8880],\n",
              "        [0.9020],\n",
              "        [0.9160],\n",
              "        [0.9300],\n",
              "        [0.9440],\n",
              "        [0.9580],\n",
              "        [0.9720],\n",
              "        [0.9860]])"
            ]
          },
          "metadata": {},
          "execution_count": 50
        }
      ]
    },
    {
      "cell_type": "code",
      "source": [
        "plot_predictions(predictions = y_preds)"
      ],
      "metadata": {
        "colab": {
          "base_uri": "https://localhost:8080/",
          "height": 436
        },
        "id": "bCFs-P9CAweK",
        "outputId": "d78ef273-d73f-4481-f9b6-9eab0c5aaf87"
      },
      "execution_count": 51,
      "outputs": [
        {
          "output_type": "display_data",
          "data": {
            "text/plain": [
              "<Figure size 1000x700 with 1 Axes>"
            ],
            "image/png": "[encoded data removed]"
          },
          "metadata": {}
        }
      ]
    },
    {
      "cell_type": "markdown",
      "source": [
        "## 3. Train model\n",
        "\n",
        "The whole idea of training is for a model  to move from some *unknown* These may be random to some known parameters\n",
        "\n",
        "Or in other words form a represenataition fo the data to a better representation of the data\n",
        "\n",
        "One way to measure how poor or how wrong you model predictions are is to true\n",
        "\n",
        "\n",
        "**Note : Loss function may also be called cost function or criterion in different areas for our case were foing to refer to it as a loss function\n",
        "\n",
        "Things we need to train:\n",
        "\n",
        "**Loss funciton : A function to measure how woring your model prediction are to the ideal lower is better.\n",
        "**optimizer : Takes inot account the loss of a model and adjust  the model paraments eg weight and bias in our case to improve the loss function.\n",
        "\n",
        "And specifically for PyTorch, we need:\n",
        "A training loop\n",
        "A testing loop\n"
      ],
      "metadata": {
        "id": "rvOX-mUXhEn6"
      }
    },
    {
      "cell_type": "code",
      "source": [
        "list(model_O.parameters())"
      ],
      "metadata": {
        "id": "vRC2U-u2BL7U",
        "colab": {
          "base_uri": "https://localhost:8080/"
        },
        "outputId": "685f0c71-94c9-4674-d644-35cfe2a4e6c8"
      },
      "execution_count": 52,
      "outputs": [
        {
          "output_type": "execute_result",
          "data": {
            "text/plain": [
              "[Parameter containing:\n",
              " tensor([0.3367], requires_grad=True),\n",
              " Parameter containing:\n",
              " tensor([0.1288], requires_grad=True)]"
            ]
          },
          "metadata": {},
          "execution_count": 52
        }
      ]
    },
    {
      "cell_type": "code",
      "source": [
        "model_O.state_dict()"
      ],
      "metadata": {
        "colab": {
          "base_uri": "https://localhost:8080/"
        },
        "id": "0QCqpFURjCMv",
        "outputId": "289a5121-5b65-4ec1-cd67-f6ad8f04acee"
      },
      "execution_count": 53,
      "outputs": [
        {
          "output_type": "execute_result",
          "data": {
            "text/plain": [
              "OrderedDict([('weights', tensor([0.3367])), ('bias', tensor([0.1288]))])"
            ]
          },
          "metadata": {},
          "execution_count": 53
        }
      ]
    },
    {
      "cell_type": "markdown",
      "source": [
        "## Setup a loss function"
      ],
      "metadata": {
        "id": "c7C1A_HaxRPr"
      }
    },
    {
      "cell_type": "code",
      "source": [
        "# Setup a loss function\n",
        "loss_fn = nn.L1Loss() # MAE Loss is same as L1Loss\n",
        "\n",
        "#Setup an optimizer (Stochastic gradient descent)\n",
        "optimizer = torch.optim.SGD(params = model_O.parameters(),\n",
        "                            lr = 0.01) # learining rate = possibly the most important hyperparameter you can set"
      ],
      "metadata": {
        "id": "BmITuDXZjU6S"
      },
      "execution_count": 54,
      "outputs": []
    },
    {
      "cell_type": "markdown",
      "source": [
        "Q. Which loss fucntion and optimizer should i use?\n",
        "A. This will be problem But with experience you'll get an idea of what doesn't with your particular problem set.\n",
        "For example for a regression problem (like ours) a loss function of nn.llose() and an optimizer like torch.optim.SGD() will suffice.\n",
        "But for a classification like classifiying whether a photo is of a dog or a cat you'll likely want to use a loss function of nn.BCELoss() (Binary Cross Entrodpy Loss)."
      ],
      "metadata": {
        "id": "iyDGPiS_0ts4"
      }
    },
    {
      "cell_type": "markdown",
      "source": [
        "### Building a training loop in PyTorch\n",
        "\n",
        "A couple of things we need in a training loop\n",
        "1. Loop thorught the data\n",
        "2. Forward pass (This involves data moving through our model's forward()\n",
        "functions) to make prediction on data - also called forward propogation\n",
        "3. Calculate the loss (compare forward pass predictions to ground truth labels)\n",
        "4. Optimizer Zero grad\n",
        "5. Loss backward - move backwards through the network to calculate the gradients of each of the parameters of our model with respect to the loss (**Backpropagation**)\n",
        "6. Optimizer step - use the optimizer to adjust our model's parameters to try and improve the loss (**Gradient descent**)"
      ],
      "metadata": {
        "id": "ENDkCv2U13Po"
      }
    },
    {
      "cell_type": "code",
      "source": [
        "# An epoch is one loop through the data .. (This is a Hyperparameter because we've set it ourselves )\n",
        "torch.manual_seed(42)\n",
        "epochs = 200\n",
        "# Track different values\n",
        "epoch_count =[]\n",
        "loss_values = []\n",
        "test_loss_values = []\n",
        "\n",
        "\n",
        "\n",
        "\n",
        "\n",
        "\n",
        "### Training\n",
        "# 0 . Loop through the data\n",
        "for epoch in range(epochs):\n",
        "  #Set the model to training mode\n",
        "  model_O.train() # train model in Pytorch sets all parameters that requires gradients to require gradients\n",
        "\n",
        "  #1. Forward pass\n",
        "  y_preds = model_O(x_train)\n",
        "\n",
        "  #2. Calculate the loss\n",
        "  loss = loss_fn(y_preds, y_train)\n",
        "\n",
        "\n",
        "  #3. Optimizer zero grad\n",
        "  optimizer.zero_grad()\n",
        "\n",
        "  #4. Perform backpropagation on the loss with respect to the parameter of the model\n",
        "  loss.backward()\n",
        "\n",
        "  #5. Step the optimizer (perform gradient descent)\n",
        "  optimizer.step() # By default how the optimizer changes will acculuumate through the loop so we have to zero them  above in step 3 for the next iteration of the loop\n",
        "\n",
        "  ### Testing\n",
        "  model_O.eval() # turns off Different setting in the model not needed for evluation /testing (Drop out batch norm layers)\n",
        "  with torch.inference_mode(): # Turn soff gradient tracking and a couple one more things behind the scenes\n",
        "  # with torch.no_grad():# You may also see torch.no_grad() in older PyTorch code\n",
        "    # 1. Do the forward pass\n",
        "    test_preds = model_O(x_test)\n",
        "    # 2. Calculate the loss\n",
        "    test_loss = loss_fn(test_preds, y_test)\n",
        "\n",
        "  # Print  out what's Happenin\n",
        "  if epoch % 10 == 0:\n",
        "    epoch_count.append(epoch)\n",
        "    loss_values.append(loss)\n",
        "    test_loss_values.append(test_loss)\n",
        "    print(f\"Epoch: {epoch} | Loss: {loss} | Test Loss: {test_loss}\")\n",
        "    # Print out model state_dict()\n",
        "    print(model_O.state_dict())\n",
        "\n",
        ""
      ],
      "metadata": {
        "id": "T7mquxLb1eHx",
        "colab": {
          "base_uri": "https://localhost:8080/"
        },
        "outputId": "ba0139ce-d191-454b-f861-76edc42f890d"
      },
      "execution_count": 55,
      "outputs": [
        {
          "output_type": "stream",
          "name": "stdout",
          "text": [
            "Epoch: 0 | Loss: 0.31288138031959534 | Test Loss: 0.48106518387794495\n",
            "OrderedDict({'weights': tensor([0.3406]), 'bias': tensor([0.1388])})\n",
            "Epoch: 10 | Loss: 0.1976713240146637 | Test Loss: 0.3463551998138428\n",
            "OrderedDict({'weights': tensor([0.3796]), 'bias': tensor([0.2388])})\n",
            "Epoch: 20 | Loss: 0.08908725529909134 | Test Loss: 0.21729660034179688\n",
            "OrderedDict({'weights': tensor([0.4184]), 'bias': tensor([0.3333])})\n",
            "Epoch: 30 | Loss: 0.053148526698350906 | Test Loss: 0.14464017748832703\n",
            "OrderedDict({'weights': tensor([0.4512]), 'bias': tensor([0.3768])})\n",
            "Epoch: 40 | Loss: 0.04543796554207802 | Test Loss: 0.11360953003168106\n",
            "OrderedDict({'weights': tensor([0.4748]), 'bias': tensor([0.3868])})\n",
            "Epoch: 50 | Loss: 0.04167863354086876 | Test Loss: 0.09919948130846024\n",
            "OrderedDict({'weights': tensor([0.4938]), 'bias': tensor([0.3843])})\n",
            "Epoch: 60 | Loss: 0.03818932920694351 | Test Loss: 0.08886633068323135\n",
            "OrderedDict({'weights': tensor([0.5116]), 'bias': tensor([0.3788])})\n",
            "Epoch: 70 | Loss: 0.03476089984178543 | Test Loss: 0.0805937647819519\n",
            "OrderedDict({'weights': tensor([0.5288]), 'bias': tensor([0.3718])})\n",
            "Epoch: 80 | Loss: 0.03132382780313492 | Test Loss: 0.07232122868299484\n",
            "OrderedDict({'weights': tensor([0.5459]), 'bias': tensor([0.3648])})\n",
            "Epoch: 90 | Loss: 0.02788739837706089 | Test Loss: 0.06473556160926819\n",
            "OrderedDict({'weights': tensor([0.5629]), 'bias': tensor([0.3573])})\n",
            "Epoch: 100 | Loss: 0.024458957836031914 | Test Loss: 0.05646304413676262\n",
            "OrderedDict({'weights': tensor([0.5800]), 'bias': tensor([0.3503])})\n",
            "Epoch: 110 | Loss: 0.021020207554101944 | Test Loss: 0.04819049686193466\n",
            "OrderedDict({'weights': tensor([0.5972]), 'bias': tensor([0.3433])})\n",
            "Epoch: 120 | Loss: 0.01758546568453312 | Test Loss: 0.04060482233762741\n",
            "OrderedDict({'weights': tensor([0.6141]), 'bias': tensor([0.3358])})\n",
            "Epoch: 130 | Loss: 0.014155393466353416 | Test Loss: 0.03233227878808975\n",
            "OrderedDict({'weights': tensor([0.6313]), 'bias': tensor([0.3288])})\n",
            "Epoch: 140 | Loss: 0.010716589167714119 | Test Loss: 0.024059748277068138\n",
            "OrderedDict({'weights': tensor([0.6485]), 'bias': tensor([0.3218])})\n",
            "Epoch: 150 | Loss: 0.0072835334576666355 | Test Loss: 0.016474086791276932\n",
            "OrderedDict({'weights': tensor([0.6654]), 'bias': tensor([0.3143])})\n",
            "Epoch: 160 | Loss: 0.0038517764769494534 | Test Loss: 0.008201557211577892\n",
            "OrderedDict({'weights': tensor([0.6826]), 'bias': tensor([0.3073])})\n",
            "Epoch: 170 | Loss: 0.008932482451200485 | Test Loss: 0.005023092031478882\n",
            "OrderedDict({'weights': tensor([0.6951]), 'bias': tensor([0.2993])})\n",
            "Epoch: 180 | Loss: 0.008932482451200485 | Test Loss: 0.005023092031478882\n",
            "OrderedDict({'weights': tensor([0.6951]), 'bias': tensor([0.2993])})\n",
            "Epoch: 190 | Loss: 0.008932482451200485 | Test Loss: 0.005023092031478882\n",
            "OrderedDict({'weights': tensor([0.6951]), 'bias': tensor([0.2993])})\n"
          ]
        }
      ]
    },
    {
      "cell_type": "code",
      "source": [
        "epoch_count , loss_values , test_loss_values"
      ],
      "metadata": {
        "colab": {
          "base_uri": "https://localhost:8080/"
        },
        "id": "O6IWvKD7I0gK",
        "outputId": "2bcf9461-03dd-42bb-a61b-2caac7c007a2"
      },
      "execution_count": 67,
      "outputs": [
        {
          "output_type": "execute_result",
          "data": {
            "text/plain": [
              "([0,\n",
              "  10,\n",
              "  20,\n",
              "  30,\n",
              "  40,\n",
              "  50,\n",
              "  60,\n",
              "  70,\n",
              "  80,\n",
              "  90,\n",
              "  100,\n",
              "  110,\n",
              "  120,\n",
              "  130,\n",
              "  140,\n",
              "  150,\n",
              "  160,\n",
              "  170,\n",
              "  180,\n",
              "  190],\n",
              " [tensor(0.3129, grad_fn=<MeanBackward0>),\n",
              "  tensor(0.1977, grad_fn=<MeanBackward0>),\n",
              "  tensor(0.0891, grad_fn=<MeanBackward0>),\n",
              "  tensor(0.0531, grad_fn=<MeanBackward0>),\n",
              "  tensor(0.0454, grad_fn=<MeanBackward0>),\n",
              "  tensor(0.0417, grad_fn=<MeanBackward0>),\n",
              "  tensor(0.0382, grad_fn=<MeanBackward0>),\n",
              "  tensor(0.0348, grad_fn=<MeanBackward0>),\n",
              "  tensor(0.0313, grad_fn=<MeanBackward0>),\n",
              "  tensor(0.0279, grad_fn=<MeanBackward0>),\n",
              "  tensor(0.0245, grad_fn=<MeanBackward0>),\n",
              "  tensor(0.0210, grad_fn=<MeanBackward0>),\n",
              "  tensor(0.0176, grad_fn=<MeanBackward0>),\n",
              "  tensor(0.0142, grad_fn=<MeanBackward0>),\n",
              "  tensor(0.0107, grad_fn=<MeanBackward0>),\n",
              "  tensor(0.0073, grad_fn=<MeanBackward0>),\n",
              "  tensor(0.0039, grad_fn=<MeanBackward0>),\n",
              "  tensor(0.0089, grad_fn=<MeanBackward0>),\n",
              "  tensor(0.0089, grad_fn=<MeanBackward0>),\n",
              "  tensor(0.0089, grad_fn=<MeanBackward0>)],\n",
              " [tensor(0.4811),\n",
              "  tensor(0.3464),\n",
              "  tensor(0.2173),\n",
              "  tensor(0.1446),\n",
              "  tensor(0.1136),\n",
              "  tensor(0.0992),\n",
              "  tensor(0.0889),\n",
              "  tensor(0.0806),\n",
              "  tensor(0.0723),\n",
              "  tensor(0.0647),\n",
              "  tensor(0.0565),\n",
              "  tensor(0.0482),\n",
              "  tensor(0.0406),\n",
              "  tensor(0.0323),\n",
              "  tensor(0.0241),\n",
              "  tensor(0.0165),\n",
              "  tensor(0.0082),\n",
              "  tensor(0.0050),\n",
              "  tensor(0.0050),\n",
              "  tensor(0.0050)])"
            ]
          },
          "metadata": {},
          "execution_count": 67
        }
      ]
    },
    {
      "cell_type": "code",
      "source": [
        "import numpy as np\n",
        "np.array(torch.tensor(loss_values).cpu().numpy()) , test_loss_values"
      ],
      "metadata": {
        "colab": {
          "base_uri": "https://localhost:8080/"
        },
        "id": "hA41MMfqJjna",
        "outputId": "91b1d9eb-272d-4457-e3d6-84c971d9040a"
      },
      "execution_count": 70,
      "outputs": [
        {
          "output_type": "execute_result",
          "data": {
            "text/plain": [
              "(array([0.31288138, 0.19767132, 0.08908726, 0.05314853, 0.04543797,\n",
              "        0.04167863, 0.03818933, 0.0347609 , 0.03132383, 0.0278874 ,\n",
              "        0.02445896, 0.02102021, 0.01758547, 0.01415539, 0.01071659,\n",
              "        0.00728353, 0.00385178, 0.00893248, 0.00893248, 0.00893248],\n",
              "       dtype=float32),\n",
              " [tensor(0.4811),\n",
              "  tensor(0.3464),\n",
              "  tensor(0.2173),\n",
              "  tensor(0.1446),\n",
              "  tensor(0.1136),\n",
              "  tensor(0.0992),\n",
              "  tensor(0.0889),\n",
              "  tensor(0.0806),\n",
              "  tensor(0.0723),\n",
              "  tensor(0.0647),\n",
              "  tensor(0.0565),\n",
              "  tensor(0.0482),\n",
              "  tensor(0.0406),\n",
              "  tensor(0.0323),\n",
              "  tensor(0.0241),\n",
              "  tensor(0.0165),\n",
              "  tensor(0.0082),\n",
              "  tensor(0.0050),\n",
              "  tensor(0.0050),\n",
              "  tensor(0.0050)])"
            ]
          },
          "metadata": {},
          "execution_count": 70
        }
      ]
    },
    {
      "cell_type": "code",
      "source": [
        "#Plot the loss curves\n",
        "plt.plot(epoch_count, np.array(torch.tensor(loss_values).numpy()) , label=\"Train loss\")\n",
        "plt.plot(epoch_count, test_loss_values, label=\"Test loss\")\n",
        "plt.title(\"Training and test loss curves\")\n",
        "plt.ylabel(\"Loss\")\n",
        "plt.xlabel(\"Epochs\")"
      ],
      "metadata": {
        "colab": {
          "base_uri": "https://localhost:8080/",
          "height": 489
        },
        "id": "Tc3g8kIOIwoo",
        "outputId": "a026604c-97fa-4b51-8616-08352b529d56"
      },
      "execution_count": 74,
      "outputs": [
        {
          "output_type": "execute_result",
          "data": {
            "text/plain": [
              "Text(0.5, 0, 'Epochs')"
            ]
          },
          "metadata": {},
          "execution_count": 74
        },
        {
          "output_type": "display_data",
          "data": {
            "text/plain": [
              "<Figure size 640x480 with 1 Axes>"
            ],
            "image/png": "[encoded data removed]"
          },
          "metadata": {}
        }
      ]
    },
    {
      "cell_type": "code",
      "source": [
        "model_O.state_dict()"
      ],
      "metadata": {
        "colab": {
          "base_uri": "https://localhost:8080/"
        },
        "id": "TfJXVzmBtBXu",
        "outputId": "07ad0699-e2ac-4c1c-e750-9abad2740516"
      },
      "execution_count": 61,
      "outputs": [
        {
          "output_type": "execute_result",
          "data": {
            "text/plain": [
              "OrderedDict([('weights', tensor([0.6990])), ('bias', tensor([0.3093]))])"
            ]
          },
          "metadata": {},
          "execution_count": 61
        }
      ]
    },
    {
      "cell_type": "code",
      "source": [
        "model_O.state_dict()"
      ],
      "metadata": {
        "colab": {
          "base_uri": "https://localhost:8080/"
        },
        "id": "EBWCNpANvGNE",
        "outputId": "36e5df6c-7741-45ba-a9f5-846f641532b7"
      },
      "execution_count": 62,
      "outputs": [
        {
          "output_type": "execute_result",
          "data": {
            "text/plain": [
              "OrderedDict([('weights', tensor([0.6990])), ('bias', tensor([0.3093]))])"
            ]
          },
          "metadata": {},
          "execution_count": 62
        }
      ]
    },
    {
      "cell_type": "code",
      "source": [
        "weight , bias"
      ],
      "metadata": {
        "colab": {
          "base_uri": "https://localhost:8080/"
        },
        "id": "wTNOzU0ctE14",
        "outputId": "015fe1bb-8275-4989-c15d-0f01e0a718ce"
      },
      "execution_count": 63,
      "outputs": [
        {
          "output_type": "execute_result",
          "data": {
            "text/plain": [
              "(0.7, 0.3)"
            ]
          },
          "metadata": {},
          "execution_count": 63
        }
      ]
    },
    {
      "cell_type": "code",
      "source": [
        "with torch.inference_mode():\n",
        "  y_preds_new = model_O(x_test)"
      ],
      "metadata": {
        "id": "xA-DuFSXyCBw"
      },
      "execution_count": 65,
      "outputs": []
    },
    {
      "cell_type": "code",
      "source": [
        "plot_predictions(predictions=y_preds_new)"
      ],
      "metadata": {
        "colab": {
          "base_uri": "https://localhost:8080/",
          "height": 436
        },
        "id": "HyYn8sKSyXAJ",
        "outputId": "276cae0d-e1f0-4df1-ed5e-b2a1dcd5c5f0"
      },
      "execution_count": 66,
      "outputs": [
        {
          "output_type": "display_data",
          "data": {
            "text/plain": [
              "<Figure size 1000x700 with 1 Axes>"
            ],
            "image/png": "[encoded data removed]"
          },
          "metadata": {}
        }
      ]
    },
    {
      "cell_type": "code",
      "source": [],
      "metadata": {
        "id": "zKlufKYqydxg"
      },
      "execution_count": 60,
      "outputs": []
    }
  ]
}